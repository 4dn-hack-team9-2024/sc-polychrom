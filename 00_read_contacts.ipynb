{
 "cells": [
  {
   "cell_type": "markdown",
   "id": "0d37d5f5-3720-4107-b88a-41dd5b2855ad",
   "metadata": {},
   "source": [
    "### Additionally installed libraries"
   ]
  },
  {
   "cell_type": "code",
   "execution_count": null,
   "id": "3213f588-ca69-4dc4-b8f4-95e02f189289",
   "metadata": {},
   "outputs": [],
   "source": [
    "### Install dependencies:\n",
    "%%bash\n",
    "git clone https://github.com/open2c/pairtools.git\n",
    "cd pairtools\n",
    "pip install -e .\n",
    "\n",
    "pip install bioframe pandas cooler"
   ]
  },
  {
   "cell_type": "code",
   "execution_count": null,
   "id": "b4a139d8-eee2-46bd-9ce5-69cc28d4f76f",
   "metadata": {},
   "outputs": [],
   "source": [
    "### Download input data:\n",
    "! wget https://gitlab.rlp.net/3d-diploid-chromatin/simulation-code/-/raw/main/Simulation_Data/Data/gm12878_17.pairs"
   ]
  },
  {
   "cell_type": "markdown",
   "id": "4746ed56-9bf7-4385-aac1-f82b512dd43f",
   "metadata": {},
   "source": [
    "### Import dependencies"
   ]
  },
  {
   "cell_type": "code",
   "execution_count": 1,
   "id": "1c4a1b97-aa8f-4b38-84fc-f9deb31bf3ee",
   "metadata": {},
   "outputs": [],
   "source": [
    "%load_ext autoreload\n",
    "%autoreload 2"
   ]
  },
  {
   "cell_type": "code",
   "execution_count": 2,
   "id": "fd217333-9725-4dbf-9784-f52a8acd5513",
   "metadata": {},
   "outputs": [],
   "source": [
    "from pairtools.lib import headerops, fileio"
   ]
  },
  {
   "cell_type": "code",
   "execution_count": 3,
   "id": "d6a8d72d-bf9b-4b8e-a375-06cc530e9263",
   "metadata": {},
   "outputs": [],
   "source": [
    "import bioframe\n",
    "import pandas as pd\n",
    "import pairtools\n",
    "import numpy as np\n",
    "import cooler"
   ]
  },
  {
   "cell_type": "code",
   "execution_count": 4,
   "id": "7814b88e-1697-48f7-8904-dfa0c43ba0f2",
   "metadata": {},
   "outputs": [],
   "source": [
    "# Get chromosome sizes:\n",
    "genome = \"hg19\"\n",
    "chromsizes = bioframe.fetch_chromsizes(genome)[:'chrY']"
   ]
  },
  {
   "cell_type": "code",
   "execution_count": 5,
   "id": "48607c45-5024-4039-97bc-4376db1d5b28",
   "metadata": {},
   "outputs": [],
   "source": [
    "def phase_chrom_sizes(chromsizes, phases=None):\n",
    "    \"\"\"\n",
    "    Get the dataframe of chromosome sizes for hap- or di-ploid genomes.\n",
    "    \"\"\"\n",
    "    output = pd.DataFrame()\n",
    "    for phase in phases:\n",
    "        output_frag = chromsizes.reset_index()\n",
    "        output_frag.loc[:, 'name'] = output_frag['name'].apply(lambda x: f\"{x}_{phase}\")\n",
    "        output = pd.concat([output, output_frag])\n",
    "\n",
    "    output = output.set_index('name')\n",
    "    return output\n",
    "\n",
    "def get_beads_per_chromosomes(chromsizes, resolution):\n",
    "    output = np.ceil( chromsizes/resolution ).astype(np.int_)\n",
    "    return output"
   ]
  },
  {
   "cell_type": "code",
   "execution_count": 6,
   "id": "c4498847-1c99-4577-9235-d9c61b03ade9",
   "metadata": {
    "scrolled": true
   },
   "outputs": [],
   "source": [
    "# Phase chromosome sizes, create diploid genome:\n",
    "chromsizes_diploid = phase_chrom_sizes(chromsizes, phases=('0', '1'))\n",
    "\n",
    "# Convert genome to the bin sizes:\n",
    "resolution = 1_000_000\n",
    "chromsizes_diploid_res     = get_beads_per_chromosomes(chromsizes_diploid, resolution)\n",
    "chromsizes_res = get_beads_per_chromosomes(chromsizes, resolution)"
   ]
  },
  {
   "cell_type": "code",
   "execution_count": 7,
   "id": "a59ee20a-96d6-450a-b06e-4e362597baa1",
   "metadata": {
    "scrolled": true
   },
   "outputs": [],
   "source": [
    "# Create diploid viewframe on the genome:\n",
    "genome_viewframe_diploid = bioframe.make_viewframe(chromsizes_diploid['length'])"
   ]
  },
  {
   "cell_type": "code",
   "execution_count": 8,
   "id": "848c9ebf-95d8-4cfe-96df-3025b38699dc",
   "metadata": {
    "scrolled": true
   },
   "outputs": [],
   "source": [
    "# Create bin table:\n",
    "bin_table = cooler.binnify(chromsizes_diploid['length'], resolution)"
   ]
  },
  {
   "cell_type": "markdown",
   "id": "df45a1d2-aeea-4de4-8bc0-aec254f617ef",
   "metadata": {},
   "source": [
    "### Read contact pairs"
   ]
  },
  {
   "cell_type": "code",
   "execution_count": 9,
   "id": "88d1786a-9111-4ef7-a30e-b0f1a4af277c",
   "metadata": {},
   "outputs": [
    {
     "name": "stderr",
     "output_type": "stream",
     "text": [
      "/tmp/ipykernel_2309672/1099055995.py:8: DtypeWarning: Columns (1,3) have mixed types. Specify dtype option on import or set low_memory=False.\n",
      "  df = pd.read_table(pairs_stream, comment=\"#\", header=None)\n"
     ]
    }
   ],
   "source": [
    "# Read scHi-C interaction pairs:\n",
    "pairs_file = \"./gm12878_17.pairs\"\n",
    "\n",
    "pairs_stream = fileio.auto_open(pairs_file, 'r')\n",
    "header, pairs_stream = headerops.get_header(pairs_stream)\n",
    "columns = headerops.get_colnames(header)\n",
    "\n",
    "df = pd.read_table(pairs_stream, comment=\"#\", header=None)\n",
    "df.columns = columns\n",
    "\n",
    "# Modify chromosome names:\n",
    "df.loc[:, 'chr1'] = df.loc[:, 'chr1'].apply(lambda x: f'chr{x}')\n",
    "df.loc[:, 'chr2'] = df.loc[:, 'chr2'].apply(lambda x: f'chr{x}')"
   ]
  },
  {
   "cell_type": "markdown",
   "id": "f9838146-c2ca-4f56-9b25-a0a0a0e8d562",
   "metadata": {},
   "source": [
    "### Write contacts for a single round of simulations"
   ]
  },
  {
   "cell_type": "code",
   "execution_count": 10,
   "id": "264fa108-75e1-441f-b797-b3e646170691",
   "metadata": {},
   "outputs": [],
   "source": [
    "# bin1_unphased and bin2_unphased are unphased chromosome coordinates.\n",
    "chr_offsets = chromsizes_res.cumsum().shift(1).replace(np.nan, 0).astype(int)\n",
    "\n",
    "df.loc[:, 'bin1_unphased'] = df.loc[:, 'pos1']//resolution + df['chr1'].apply(lambda x: chr_offsets[x])\n",
    "df.loc[:, 'bin2_unphased'] = df.loc[:, 'pos2']//resolution + df['chr2'].apply(lambda x: chr_offsets[x])"
   ]
  },
  {
   "cell_type": "code",
   "execution_count": 11,
   "id": "78d2923b-5d58-4164-8ade-90584ca753f3",
   "metadata": {},
   "outputs": [],
   "source": [
    "df.loc[:, 'chr1_phased'] = df.apply(lambda x: x[\"chr1\"]+str(\"_\"+x[\"phase0\"] if x[\"phase0\"]!='.' else ''), axis=1)\n",
    "df.loc[:, 'chr2_phased'] = df.apply(lambda x: x[\"chr2\"]+str(\"_\"+x[\"phase1\"] if x[\"phase1\"]!='.' else ''), axis=1)"
   ]
  },
  {
   "cell_type": "code",
   "execution_count": 12,
   "id": "5d53c7b0-e3cb-42ec-a6b8-b1bf0931337e",
   "metadata": {},
   "outputs": [
    {
     "data": {
      "text/html": [
       "<div>\n",
       "<style scoped>\n",
       "    .dataframe tbody tr th:only-of-type {\n",
       "        vertical-align: middle;\n",
       "    }\n",
       "\n",
       "    .dataframe tbody tr th {\n",
       "        vertical-align: top;\n",
       "    }\n",
       "\n",
       "    .dataframe thead th {\n",
       "        text-align: right;\n",
       "    }\n",
       "</style>\n",
       "<table border=\"1\" class=\"dataframe\">\n",
       "  <thead>\n",
       "    <tr style=\"text-align: right;\">\n",
       "      <th></th>\n",
       "      <th>readID</th>\n",
       "      <th>chr1</th>\n",
       "      <th>pos1</th>\n",
       "      <th>chr2</th>\n",
       "      <th>pos2</th>\n",
       "      <th>strand1</th>\n",
       "      <th>strand2</th>\n",
       "      <th>phase0</th>\n",
       "      <th>phase1</th>\n",
       "      <th>phase_prob00</th>\n",
       "      <th>phase_prob01</th>\n",
       "      <th>phase_prob10</th>\n",
       "      <th>phase_prob11</th>\n",
       "      <th>bin1_unphased</th>\n",
       "      <th>bin2_unphased</th>\n",
       "      <th>chr1_phased</th>\n",
       "      <th>chr2_phased</th>\n",
       "    </tr>\n",
       "  </thead>\n",
       "  <tbody>\n",
       "    <tr>\n",
       "      <th>61</th>\n",
       "      <td>.</td>\n",
       "      <td>chr1</td>\n",
       "      <td>935952</td>\n",
       "      <td>chr1</td>\n",
       "      <td>212526488</td>\n",
       "      <td>-</td>\n",
       "      <td>-</td>\n",
       "      <td>.</td>\n",
       "      <td>1</td>\n",
       "      <td>0.000</td>\n",
       "      <td>0.001</td>\n",
       "      <td>0.000</td>\n",
       "      <td>0.999</td>\n",
       "      <td>0</td>\n",
       "      <td>212</td>\n",
       "      <td>chr1</td>\n",
       "      <td>chr1_1</td>\n",
       "    </tr>\n",
       "    <tr>\n",
       "      <th>62</th>\n",
       "      <td>.</td>\n",
       "      <td>chr1</td>\n",
       "      <td>936011</td>\n",
       "      <td>chr1</td>\n",
       "      <td>212526262</td>\n",
       "      <td>+</td>\n",
       "      <td>+</td>\n",
       "      <td>.</td>\n",
       "      <td>1</td>\n",
       "      <td>0.000</td>\n",
       "      <td>0.001</td>\n",
       "      <td>0.000</td>\n",
       "      <td>0.999</td>\n",
       "      <td>0</td>\n",
       "      <td>212</td>\n",
       "      <td>chr1</td>\n",
       "      <td>chr1_1</td>\n",
       "    </tr>\n",
       "    <tr>\n",
       "      <th>110</th>\n",
       "      <td>.</td>\n",
       "      <td>chr1</td>\n",
       "      <td>1001028</td>\n",
       "      <td>chr1</td>\n",
       "      <td>2240428</td>\n",
       "      <td>+</td>\n",
       "      <td>-</td>\n",
       "      <td>0</td>\n",
       "      <td>0</td>\n",
       "      <td>1.000</td>\n",
       "      <td>0.000</td>\n",
       "      <td>0.000</td>\n",
       "      <td>0.000</td>\n",
       "      <td>1</td>\n",
       "      <td>2</td>\n",
       "      <td>chr1_0</td>\n",
       "      <td>chr1_0</td>\n",
       "    </tr>\n",
       "    <tr>\n",
       "      <th>163</th>\n",
       "      <td>.</td>\n",
       "      <td>chr1</td>\n",
       "      <td>1139664</td>\n",
       "      <td>chr1</td>\n",
       "      <td>53627796</td>\n",
       "      <td>+</td>\n",
       "      <td>+</td>\n",
       "      <td>.</td>\n",
       "      <td>0</td>\n",
       "      <td>0.989</td>\n",
       "      <td>0.000</td>\n",
       "      <td>0.011</td>\n",
       "      <td>0.000</td>\n",
       "      <td>1</td>\n",
       "      <td>53</td>\n",
       "      <td>chr1</td>\n",
       "      <td>chr1_0</td>\n",
       "    </tr>\n",
       "    <tr>\n",
       "      <th>164</th>\n",
       "      <td>.</td>\n",
       "      <td>chr1</td>\n",
       "      <td>1139703</td>\n",
       "      <td>chr1</td>\n",
       "      <td>53627671</td>\n",
       "      <td>-</td>\n",
       "      <td>-</td>\n",
       "      <td>.</td>\n",
       "      <td>0</td>\n",
       "      <td>0.989</td>\n",
       "      <td>0.000</td>\n",
       "      <td>0.011</td>\n",
       "      <td>0.000</td>\n",
       "      <td>1</td>\n",
       "      <td>53</td>\n",
       "      <td>chr1</td>\n",
       "      <td>chr1_0</td>\n",
       "    </tr>\n",
       "  </tbody>\n",
       "</table>\n",
       "</div>"
      ],
      "text/plain": [
       "    readID  chr1     pos1  chr2       pos2 strand1 strand2 phase0 phase1  \\\n",
       "61       .  chr1   935952  chr1  212526488       -       -      .      1   \n",
       "62       .  chr1   936011  chr1  212526262       +       +      .      1   \n",
       "110      .  chr1  1001028  chr1    2240428       +       -      0      0   \n",
       "163      .  chr1  1139664  chr1   53627796       +       +      .      0   \n",
       "164      .  chr1  1139703  chr1   53627671       -       -      .      0   \n",
       "\n",
       "     phase_prob00  phase_prob01  phase_prob10  phase_prob11  bin1_unphased  \\\n",
       "61          0.000         0.001         0.000         0.999              0   \n",
       "62          0.000         0.001         0.000         0.999              0   \n",
       "110         1.000         0.000         0.000         0.000              1   \n",
       "163         0.989         0.000         0.011         0.000              1   \n",
       "164         0.989         0.000         0.011         0.000              1   \n",
       "\n",
       "     bin2_unphased chr1_phased chr2_phased  \n",
       "61             212        chr1      chr1_1  \n",
       "62             212        chr1      chr1_1  \n",
       "110              2      chr1_0      chr1_0  \n",
       "163             53        chr1      chr1_0  \n",
       "164             53        chr1      chr1_0  "
      ]
     },
     "execution_count": 12,
     "metadata": {},
     "output_type": "execute_result"
    }
   ],
   "source": [
    "df.query('phase1!=\".\"').head()"
   ]
  },
  {
   "cell_type": "code",
   "execution_count": 13,
   "id": "15a6bff0-ee61-4882-ab48-0db3ae42834d",
   "metadata": {},
   "outputs": [],
   "source": [
    "def split_pairs(df, \n",
    "                phase_cols=('phase0', 'phase1'),\n",
    "                accepted_phases=('0', '1'),\n",
    "                mark=True, col_mark='pair_type'\n",
    "               ):\n",
    "    \"\"\"Split the pairs into ambiguous and non-ambiguous pairs\"\"\"\n",
    "\n",
    "    mask = np.ones(len(df), dtype=np.bool_)\n",
    "    for phase_col in phase_cols:\n",
    "        mask &= np.in1d( df.loc[:, phase_col], accepted_phases )\n",
    "    if mark:\n",
    "        df.loc[mask, col_mark] = 'accepted'\n",
    "        df.loc[~mask, col_mark] = 'ambiguous'\n",
    "    return df[mask], df[~mask], df\n",
    "\n",
    "def get_edges(df, cols=['bin1_phased', 'bin2_phased'], add_cols=['bin1_unphased', 'bin2_unphased'], drop_self=True):\n",
    "    df_unique = df.dropna(subset=cols).drop_duplicates(subset=cols)\n",
    "    if drop_self:\n",
    "        df_unique = df_unique.query('abs(bin1_phased-bin2_phased)>2')\n",
    "    return df_unique[cols+add_cols]"
   ]
  },
  {
   "cell_type": "code",
   "execution_count": 14,
   "id": "a3a31add-c525-43fe-82df-64f5c6c4e999",
   "metadata": {},
   "outputs": [
    {
     "name": "stdout",
     "output_type": "stream",
     "text": [
      "Ambiguous vs resolved: 1826692 12546\n"
     ]
    }
   ],
   "source": [
    "# Split pairs into ambiguous vs not: \n",
    "df_accepted, df_ambiguous, df = split_pairs(df)\n",
    "print('Ambiguous vs resolved:', len(df_ambiguous), len(df_accepted))"
   ]
  },
  {
   "cell_type": "code",
   "execution_count": 15,
   "id": "76d9ae72-bdbf-4312-8a36-3450bf8b363f",
   "metadata": {
    "scrolled": true
   },
   "outputs": [
    {
     "name": "stderr",
     "output_type": "stream",
     "text": [
      "/tmp/ipykernel_2309672/2890387701.py:4: SettingWithCopyWarning: \n",
      "A value is trying to be set on a copy of a slice from a DataFrame.\n",
      "Try using .loc[row_indexer,col_indexer] = value instead\n",
      "\n",
      "See the caveats in the documentation: https://pandas.pydata.org/pandas-docs/stable/user_guide/indexing.html#returning-a-view-versus-a-copy\n",
      "  df_accepted.loc[:, 'bin1_phased'] = df_accepted.loc[:, 'pos1']//resolution + df_accepted['chr1_phased'].apply(lambda x: chr_offsets_diploid.loc[x, 'length'])\n",
      "/tmp/ipykernel_2309672/2890387701.py:5: SettingWithCopyWarning: \n",
      "A value is trying to be set on a copy of a slice from a DataFrame.\n",
      "Try using .loc[row_indexer,col_indexer] = value instead\n",
      "\n",
      "See the caveats in the documentation: https://pandas.pydata.org/pandas-docs/stable/user_guide/indexing.html#returning-a-view-versus-a-copy\n",
      "  df_accepted.loc[:, 'bin2_phased'] = df_accepted.loc[:, 'pos2']//resolution + df_accepted['chr2_phased'].apply(lambda x: chr_offsets_diploid.loc[x, 'length'])\n"
     ]
    }
   ],
   "source": [
    "# bin1_phased and bin2_phased are phased binned coordinates\n",
    "chr_offsets_diploid = chromsizes_diploid_res.cumsum().shift(1).replace(np.nan, 0).astype(int)\n",
    "\n",
    "df_accepted.loc[:, 'bin1_phased'] = df_accepted.loc[:, 'pos1']//resolution + df_accepted['chr1_phased'].apply(lambda x: chr_offsets_diploid.loc[x, 'length'])\n",
    "df_accepted.loc[:, 'bin2_phased'] = df_accepted.loc[:, 'pos2']//resolution + df_accepted['chr2_phased'].apply(lambda x: chr_offsets_diploid.loc[x, 'length'])\n",
    "\n",
    "# Get the edges: \n",
    "df_edges = get_edges(df_accepted)"
   ]
  },
  {
   "cell_type": "code",
   "execution_count": 16,
   "id": "9af6a387-b587-47a2-b95e-8db791a72953",
   "metadata": {},
   "outputs": [],
   "source": [
    "iteration = 1\n",
    "\n",
    "df_edges.to_csv(f\"./edges_round{iteration}.csv\")\n",
    "\n",
    "bin_table.to_csv(f\"./bin_table_round{iteration}.csv\")\n",
    "chromsizes_diploid_res.to_csv(f\"./chrom-sizes_round{iteration}.csv\")"
   ]
  },
  {
   "cell_type": "code",
   "execution_count": 17,
   "id": "38339672-3d98-4dd5-9e32-a22625328d82",
   "metadata": {},
   "outputs": [],
   "source": [
    "#### Next steps:\n",
    "# Go from input 3D genome to the set of isolated, resolved and ambiguous contacts"
   ]
  },
  {
   "cell_type": "code",
   "execution_count": 18,
   "id": "a74a0edc-b1d8-40d2-9ff3-7eca34597647",
   "metadata": {},
   "outputs": [
    {
     "data": {
      "text/plain": [
       "1826692"
      ]
     },
     "execution_count": 18,
     "metadata": {},
     "output_type": "execute_result"
    }
   ],
   "source": [
    "len(df_ambiguous)"
   ]
  },
  {
   "cell_type": "code",
   "execution_count": 19,
   "id": "71f0f381-e821-4e16-89b3-5aedb9205dff",
   "metadata": {},
   "outputs": [
    {
     "data": {
      "text/plain": [
       "12546"
      ]
     },
     "execution_count": 19,
     "metadata": {},
     "output_type": "execute_result"
    }
   ],
   "source": [
    "len(df_accepted)"
   ]
  },
  {
   "cell_type": "code",
   "execution_count": 20,
   "id": "6811855a-19dc-4b7e-9223-6dfbabe74d55",
   "metadata": {},
   "outputs": [
    {
     "data": {
      "text/plain": [
       "2768"
      ]
     },
     "execution_count": 20,
     "metadata": {},
     "output_type": "execute_result"
    }
   ],
   "source": [
    "len(df_edges)"
   ]
  },
  {
   "cell_type": "code",
   "execution_count": 21,
   "id": "9fbe4112-e2ef-451e-b7d0-dc167cd840dd",
   "metadata": {},
   "outputs": [
    {
     "data": {
      "text/html": [
       "<div>\n",
       "<style scoped>\n",
       "    .dataframe tbody tr th:only-of-type {\n",
       "        vertical-align: middle;\n",
       "    }\n",
       "\n",
       "    .dataframe tbody tr th {\n",
       "        vertical-align: top;\n",
       "    }\n",
       "\n",
       "    .dataframe thead th {\n",
       "        text-align: right;\n",
       "    }\n",
       "</style>\n",
       "<table border=\"1\" class=\"dataframe\">\n",
       "  <thead>\n",
       "    <tr style=\"text-align: right;\">\n",
       "      <th></th>\n",
       "      <th>bin1_phased</th>\n",
       "      <th>bin2_phased</th>\n",
       "      <th>bin1_unphased</th>\n",
       "      <th>bin2_unphased</th>\n",
       "    </tr>\n",
       "  </thead>\n",
       "  <tbody>\n",
       "    <tr>\n",
       "      <th>1824148</th>\n",
       "      <td>3013</td>\n",
       "      <td>3040</td>\n",
       "      <td>3013</td>\n",
       "      <td>3040</td>\n",
       "    </tr>\n",
       "    <tr>\n",
       "      <th>1828103</th>\n",
       "      <td>3021</td>\n",
       "      <td>3047</td>\n",
       "      <td>3021</td>\n",
       "      <td>3047</td>\n",
       "    </tr>\n",
       "    <tr>\n",
       "      <th>1829325</th>\n",
       "      <td>6137</td>\n",
       "      <td>6144</td>\n",
       "      <td>3024</td>\n",
       "      <td>3031</td>\n",
       "    </tr>\n",
       "    <tr>\n",
       "      <th>1830276</th>\n",
       "      <td>3026</td>\n",
       "      <td>3031</td>\n",
       "      <td>3026</td>\n",
       "      <td>3031</td>\n",
       "    </tr>\n",
       "    <tr>\n",
       "      <th>1831040</th>\n",
       "      <td>3027</td>\n",
       "      <td>3036</td>\n",
       "      <td>3027</td>\n",
       "      <td>3036</td>\n",
       "    </tr>\n",
       "  </tbody>\n",
       "</table>\n",
       "</div>"
      ],
      "text/plain": [
       "         bin1_phased  bin2_phased  bin1_unphased  bin2_unphased\n",
       "1824148         3013         3040           3013           3040\n",
       "1828103         3021         3047           3021           3047\n",
       "1829325         6137         6144           3024           3031\n",
       "1830276         3026         3031           3026           3031\n",
       "1831040         3027         3036           3027           3036"
      ]
     },
     "execution_count": 21,
     "metadata": {},
     "output_type": "execute_result"
    }
   ],
   "source": [
    "df_edges.tail()"
   ]
  },
  {
   "cell_type": "markdown",
   "id": "079269c5-3ae0-4155-8e13-3f1f0df9edee",
   "metadata": {},
   "source": [
    "## Resolve-remove contact pairs"
   ]
  },
  {
   "cell_type": "code",
   "execution_count": 22,
   "id": "8cec2655-5c56-4b68-b02d-250d8ea63667",
   "metadata": {},
   "outputs": [],
   "source": [
    "import seaborn as sns\n",
    "import matplotlib.pyplot as plt"
   ]
  },
  {
   "cell_type": "code",
   "execution_count": 82,
   "id": "eacb81eb-be63-4084-9118-43c31778d4d5",
   "metadata": {},
   "outputs": [],
   "source": [
    "positions_3d = np.load(\"./hoomd_model_round2.npy\")"
   ]
  },
  {
   "cell_type": "code",
   "execution_count": 83,
   "id": "ce9926d2-01ae-4fe4-a581-17a276f7ed75",
   "metadata": {},
   "outputs": [],
   "source": [
    "pos = positions_3d.copy()"
   ]
  },
  {
   "cell_type": "code",
   "execution_count": 84,
   "id": "19d5a553-a4aa-4fc8-8d31-1f49aabf667b",
   "metadata": {},
   "outputs": [],
   "source": [
    "def get_distances_backbone(pos, chromsizes_binned):\n",
    "    \"\"\" Return distsnce to the next bead, or nan if current bead is at the end of chromosome\"\"\"\n",
    "    dists = np.linalg.norm(pos[:-1, :] - pos[1:, :], axis=1)\n",
    "    dists = np.concatenate([dists, [np.nan]])\n",
    "\n",
    "    # Fill in ends of chromosomes with nans:\n",
    "    chr_ends = np.concatenate( [chromsizes_binned.values.cumsum(), [len(pos)]] )-1\n",
    "    dists[chr_ends] = np.nan\n",
    "    \n",
    "    return dists\n",
    "\n",
    "def get_distances_links(df_edges):\n",
    "    dists = np.linalg.norm( \n",
    "        pos[df_edges['bin1_phased'].values.astype(int), :] - \\\n",
    "        pos[df_edges['bin2_phased'].values.astype(int), :], \n",
    "        axis=1)\n",
    "    return dists"
   ]
  },
  {
   "cell_type": "code",
   "execution_count": 85,
   "id": "4bb01dea-b9e6-436a-b856-3e66cf25ada3",
   "metadata": {},
   "outputs": [],
   "source": [
    "distances_backbone = get_distances_backbone(pos, chromsizes_diploid_res)"
   ]
  },
  {
   "cell_type": "code",
   "execution_count": 86,
   "id": "d7ea4bbb-5340-411f-9133-90ed8f3fb249",
   "metadata": {},
   "outputs": [],
   "source": [
    "distances_links = get_distances_links(df_edges)"
   ]
  },
  {
   "cell_type": "code",
   "execution_count": 87,
   "id": "3283958b-46a8-4974-b51f-707006282a5c",
   "metadata": {},
   "outputs": [],
   "source": [
    "df_edges.loc[:, 'dist'] = distances_links"
   ]
  },
  {
   "cell_type": "code",
   "execution_count": 88,
   "id": "0d26b9ce-6205-415a-bfa4-286b48282184",
   "metadata": {},
   "outputs": [
    {
     "data": {
      "text/plain": [
       "count    12364.000000\n",
       "mean         1.002582\n",
       "std          0.050139\n",
       "min          0.795462\n",
       "25%          0.969212\n",
       "50%          1.002567\n",
       "75%          1.036336\n",
       "max          1.184438\n",
       "dtype: float64"
      ]
     },
     "execution_count": 88,
     "metadata": {},
     "output_type": "execute_result"
    }
   ],
   "source": [
    "pd.Series(distances_backbone).describe()"
   ]
  },
  {
   "cell_type": "code",
   "execution_count": 109,
   "id": "8e0db5a8-7cf4-434a-b173-2ab0a07cbcfa",
   "metadata": {},
   "outputs": [
    {
     "data": {
      "text/plain": [
       "count    4841.000000\n",
       "mean       10.031245\n",
       "std        11.585352\n",
       "min         1.747097\n",
       "25%         1.991036\n",
       "50%         2.044670\n",
       "75%        20.057264\n",
       "max        44.802559\n",
       "dtype: float64"
      ]
     },
     "execution_count": 109,
     "metadata": {},
     "output_type": "execute_result"
    }
   ],
   "source": [
    "pd.Series(distances_links).describe()"
   ]
  },
  {
   "cell_type": "code",
   "execution_count": 89,
   "id": "b20a0148-f466-4156-9a93-81caee7a2d10",
   "metadata": {},
   "outputs": [
    {
     "data": {
      "text/html": [
       "<div>\n",
       "<style scoped>\n",
       "    .dataframe tbody tr th:only-of-type {\n",
       "        vertical-align: middle;\n",
       "    }\n",
       "\n",
       "    .dataframe tbody tr th {\n",
       "        vertical-align: top;\n",
       "    }\n",
       "\n",
       "    .dataframe thead th {\n",
       "        text-align: right;\n",
       "    }\n",
       "</style>\n",
       "<table border=\"1\" class=\"dataframe\">\n",
       "  <thead>\n",
       "    <tr style=\"text-align: right;\">\n",
       "      <th></th>\n",
       "      <th>bin1_phased</th>\n",
       "      <th>bin2_phased</th>\n",
       "      <th>bin1_unphased</th>\n",
       "      <th>bin2_unphased</th>\n",
       "      <th>dist</th>\n",
       "    </tr>\n",
       "  </thead>\n",
       "  <tbody>\n",
       "    <tr>\n",
       "      <th>1214949</th>\n",
       "      <td>3440</td>\n",
       "      <td>12271</td>\n",
       "      <td>3440</td>\n",
       "      <td>6065</td>\n",
       "      <td>1.747097</td>\n",
       "    </tr>\n",
       "    <tr>\n",
       "      <th>1439022</th>\n",
       "      <td>10656</td>\n",
       "      <td>10667</td>\n",
       "      <td>4450</td>\n",
       "      <td>4461</td>\n",
       "      <td>1.835512</td>\n",
       "    </tr>\n",
       "    <tr>\n",
       "      <th>966362</th>\n",
       "      <td>9005</td>\n",
       "      <td>9058</td>\n",
       "      <td>2799</td>\n",
       "      <td>2852</td>\n",
       "      <td>1.838126</td>\n",
       "    </tr>\n",
       "    <tr>\n",
       "      <th>1332506</th>\n",
       "      <td>10227</td>\n",
       "      <td>10366</td>\n",
       "      <td>4021</td>\n",
       "      <td>4160</td>\n",
       "      <td>1.842127</td>\n",
       "    </tr>\n",
       "    <tr>\n",
       "      <th>375748</th>\n",
       "      <td>1013</td>\n",
       "      <td>1360</td>\n",
       "      <td>1013</td>\n",
       "      <td>1360</td>\n",
       "      <td>1.845053</td>\n",
       "    </tr>\n",
       "  </tbody>\n",
       "</table>\n",
       "</div>"
      ],
      "text/plain": [
       "         bin1_phased  bin2_phased  bin1_unphased  bin2_unphased      dist\n",
       "1214949         3440        12271           3440           6065  1.747097\n",
       "1439022        10656        10667           4450           4461  1.835512\n",
       "966362          9005         9058           2799           2852  1.838126\n",
       "1332506        10227        10366           4021           4160  1.842127\n",
       "375748          1013         1360           1013           1360  1.845053"
      ]
     },
     "execution_count": 89,
     "metadata": {},
     "output_type": "execute_result"
    }
   ],
   "source": [
    "df_edges.sort_values('dist').head()"
   ]
  },
  {
   "cell_type": "code",
   "execution_count": 90,
   "id": "20ed864b-a2af-446e-a322-75373f85e56a",
   "metadata": {},
   "outputs": [
    {
     "data": {
      "text/plain": [
       "(0.0, 50.0)"
      ]
     },
     "execution_count": 90,
     "metadata": {},
     "output_type": "execute_result"
    },
    {
     "data": {
      "image/png": "[encoded data removed]",
      "text/plain": [
       "<Figure size 640x480 with 1 Axes>"
      ]
     },
     "metadata": {},
     "output_type": "display_data"
    }
   ],
   "source": [
    "df_dists_toplot = pd.concat([\n",
    "    pd.DataFrame( [distances_backbone, \n",
    "               np.repeat('backbone', len(distances_backbone))], \n",
    "                 index=['dist', 'type'] ).T,\n",
    "    pd.DataFrame( [distances_links, \n",
    "               np.repeat('links', len(distances_links))], \n",
    "                 index=['dist', 'type'] ).T\n",
    "    ])\n",
    "\n",
    "sns.histplot( \n",
    "    df_dists_toplot.reset_index(drop=True), \n",
    "    binwidth=5e-1,\n",
    "    x='dist', y='type', hue='type', \n",
    "    common_norm=False )\n",
    "\n",
    "plt.xlim([0, 50])"
   ]
  },
  {
   "cell_type": "markdown",
   "id": "73f29af4-99a8-4b8b-9d9d-52dbc85f82c7",
   "metadata": {},
   "source": [
    "#### Try phasing ambiguous contacts"
   ]
  },
  {
   "cell_type": "code",
   "execution_count": 91,
   "id": "7a22efd3-d4a3-4983-a0df-c0b17a2e02bb",
   "metadata": {},
   "outputs": [],
   "source": [
    "def assign_phases(df, phase0=0, phase1=1, filter=True):\n",
    "    \n",
    "    if filter:\n",
    "        cond = (df['phase0']=='.')&(df['phase1']=='.')\n",
    "        cond |= (df['phase0']=='.')&(df['phase1']==phase1)\n",
    "        cond |= (df['phase0']==phase0)&(df['phase1']=='.')\n",
    "        df = df.loc[cond, :].copy()\n",
    "    \n",
    "    df.loc[:, 'phase0'] = phase0\n",
    "    df.loc[:, 'phase1'] = phase1\n",
    "\n",
    "    phase0_str = \"_\"+str(phase0)\n",
    "    phase1_str = \"_\"+str(phase1)\n",
    "    \n",
    "    df.loc[:, 'chr1_phased'] = df.apply(lambda x: x[\"chr1\"]+phase0_str, axis=1)\n",
    "    df.loc[:, 'chr2_phased'] = df.apply(lambda x: x[\"chr2\"]+phase1_str, axis=1)\n",
    "\n",
    "    return df"
   ]
  },
  {
   "cell_type": "code",
   "execution_count": 92,
   "id": "5c8be876-04cc-497e-a8d5-39f7a14b199a",
   "metadata": {},
   "outputs": [],
   "source": [
    "from tqdm.autonotebook import tqdm"
   ]
  },
  {
   "cell_type": "code",
   "execution_count": 93,
   "id": "7ec5cdbe-0728-4a52-8e9e-20149d6db5d1",
   "metadata": {},
   "outputs": [
    {
     "data": {
      "application/vnd.jupyter.widget-view+json": {
       "model_id": "2c757af741954481a8ff3f91014c290e",
       "version_major": 2,
       "version_minor": 0
      },
      "text/plain": [
       "  0%|          | 0/4 [00:00<?, ?it/s]"
      ]
     },
     "metadata": {},
     "output_type": "display_data"
    }
   ],
   "source": [
    "# Assign pseudo-phases\n",
    "# Annotate edges in diploid genome and store them\n",
    "\n",
    "dfs_pseudophased = {}\n",
    "for phases in tqdm([\n",
    "    (0, 0),\n",
    "    (0, 1),\n",
    "    (1, 0),\n",
    "    (1, 1)\n",
    "]):\n",
    "    df_pseudophased = assign_phases(df_ambiguous, phase0=phases[0], phase1=phases[1])\n",
    "    df_pseudophased.loc[:, 'bin1_phased'] = (df_pseudophased.loc[:, 'pos1']//resolution).values + \\\n",
    "                                            chr_offsets_diploid.loc[df_pseudophased['chr1_phased']].values.T[0]\n",
    "    df_pseudophased.loc[:, 'bin2_phased'] = (df_pseudophased.loc[:, 'pos2']//resolution).values + \\\n",
    "                                            chr_offsets_diploid.loc[df_pseudophased['chr2_phased']].values.T[0]\n",
    "    df_pseudophased_edges = get_edges(df_pseudophased, \n",
    "                                      cols=['bin1_phased', 'bin2_phased'], \n",
    "                                      add_cols=['bin1_unphased', 'bin2_unphased', 'chr1_phased', 'chr2_phased'])\n",
    "    \n",
    "    dfs_pseudophased[phases] = df_pseudophased_edges.copy()\n"
   ]
  },
  {
   "cell_type": "code",
   "execution_count": 94,
   "id": "f7a5a9b2-8f2b-428a-9690-0aaee197f20c",
   "metadata": {},
   "outputs": [],
   "source": [
    "# Annotate the distances between links:\n",
    "for phases in [\n",
    "    (0, 0),\n",
    "    (0, 1),\n",
    "    (1, 0),\n",
    "    (1, 1)\n",
    "]:\n",
    "    distances_links_tmp = get_distances_links(dfs_pseudophased[phases])\n",
    "    dfs_pseudophased[phases].loc[:, 'dist'] = distances_links_tmp\n",
    "    dfs_pseudophased[phases].loc[:, 'pseusophase0'] = str(phases[0])\n",
    "    dfs_pseudophased[phases].loc[:, 'pseusophase1'] = str(phases[1])"
   ]
  },
  {
   "cell_type": "code",
   "execution_count": 95,
   "id": "05f7199d-74c1-4aaf-9baa-eb27787060dd",
   "metadata": {},
   "outputs": [],
   "source": [
    "df_dists_toplot = []\n",
    "\n",
    "df_dists_toplot.append(\n",
    "    pd.DataFrame( [distances_backbone, \n",
    "               np.repeat('backbone', len(distances_backbone))], \n",
    "                 index=['dist', 'type'] ).T\n",
    ")\n",
    "\n",
    "df_dists_toplot.append(\n",
    "    pd.DataFrame( [distances_links, \n",
    "               np.repeat('links', len(distances_links))], \n",
    "                 index=['dist', 'type'] ).T\n",
    ")\n",
    "\n",
    "for phases in [\n",
    "    (0, 0),\n",
    "    (0, 1),\n",
    "    (1, 0),\n",
    "    (1, 1)\n",
    "]:\n",
    "    phase1, phase2 = phases\n",
    "    df_dists_toplot.append(\n",
    "        pd.DataFrame( [dfs_pseudophased[phases]['dist'], \n",
    "                   np.repeat(f'pseudolinks_{phase1}{phase2}', len(distances_links_tmp))], \n",
    "                     index=['dist', 'type'] ).T\n",
    "    )"
   ]
  },
  {
   "cell_type": "code",
   "execution_count": 96,
   "id": "1458ac5b-1dbe-42fd-8d6e-dee651db4599",
   "metadata": {},
   "outputs": [],
   "source": [
    "df_dists_toplot = pd.concat(df_dists_toplot)"
   ]
  },
  {
   "cell_type": "code",
   "execution_count": 97,
   "id": "37cec6e6-66c0-4405-a66c-d9c54c60032a",
   "metadata": {},
   "outputs": [
    {
     "data": {
      "text/plain": [
       "Text(0.5, 1.0, 'Distributions of distances\\nbetween backbine, scHi-C links and ambiguous links')"
      ]
     },
     "execution_count": 97,
     "metadata": {},
     "output_type": "execute_result"
    },
    {
     "data": {
      "image/png": "[encoded data removed]",
      "text/plain": [
       "<Figure size 640x480 with 1 Axes>"
      ]
     },
     "metadata": {},
     "output_type": "display_data"
    }
   ],
   "source": [
    "vmax = 40\n",
    "step = 0.1\n",
    "sns.histplot( df_dists_toplot.reset_index(drop=True).query(f'dist<{vmax}'),\n",
    "        binwidth=step,\n",
    "        x='dist', \n",
    "        y='type', \n",
    "        hue='type', \n",
    "        legend=False,\n",
    "        common_norm=False\n",
    ")\n",
    "# plt.xscale('log')\n",
    "plt.xlim([0, vmax])\n",
    "\n",
    "plt.title('Distributions of distances\\nbetween backbine, scHi-C links and ambiguous links')\n"
   ]
  },
  {
   "cell_type": "markdown",
   "id": "4cc43911-8190-478a-b63b-ce1772fbdcc2",
   "metadata": {},
   "source": [
    "#### Select uniquely resolved pairs"
   ]
  },
  {
   "cell_type": "code",
   "execution_count": 98,
   "id": "ba560580-33db-433c-95b3-7c62a12e5431",
   "metadata": {},
   "outputs": [],
   "source": [
    "cutoff = 2.0 + 0.5"
   ]
  },
  {
   "cell_type": "code",
   "execution_count": 99,
   "id": "457e032f-78aa-414e-8e04-4865aba7192b",
   "metadata": {},
   "outputs": [],
   "source": [
    "# Define phasing candidates:\n",
    "phasing_candidates = []\n",
    "for phases in [\n",
    "    (0, 0),\n",
    "    (0, 1),\n",
    "    (1, 0),\n",
    "    (1, 1)\n",
    "]:\n",
    "    phasing_candidates.append( \n",
    "        dfs_pseudophased[phases].query(f'dist<{cutoff}')\n",
    "    )\n",
    "\n",
    "phasing_candidates = pd.concat(phasing_candidates)"
   ]
  },
  {
   "cell_type": "code",
   "execution_count": 100,
   "id": "2e1ed118-5749-446c-b459-7f0be3122197",
   "metadata": {},
   "outputs": [
    {
     "data": {
      "text/plain": [
       "17394"
      ]
     },
     "execution_count": 100,
     "metadata": {},
     "output_type": "execute_result"
    }
   ],
   "source": [
    "len(phasing_candidates)"
   ]
  },
  {
   "cell_type": "code",
   "execution_count": 101,
   "id": "a510b300-6e81-4a4e-82dd-0f4dd364a84d",
   "metadata": {},
   "outputs": [
    {
     "data": {
      "text/plain": [
       "15130"
      ]
     },
     "execution_count": 101,
     "metadata": {},
     "output_type": "execute_result"
    }
   ],
   "source": [
    "# Filter out the candidates that cannot be resolved uniquely:\n",
    "phasing_candidates = phasing_candidates.reset_index().drop_duplicates('index').set_index('index')\n",
    "len(phasing_candidates)"
   ]
  },
  {
   "cell_type": "code",
   "execution_count": 102,
   "id": "e05e021a-e13c-4342-a8a2-3f9b0bbf7563",
   "metadata": {},
   "outputs": [],
   "source": [
    "col_mark = 'pair_type'"
   ]
  },
  {
   "cell_type": "code",
   "execution_count": 103,
   "id": "97d60a68-f946-4e97-891d-0c151170eb1c",
   "metadata": {},
   "outputs": [],
   "source": [
    "unique_idx_bins = df_ambiguous.groupby(\n",
    "    ['bin1_unphased', 'bin2_unphased']\n",
    ").count().query('readID==1').index"
   ]
  },
  {
   "cell_type": "code",
   "execution_count": 104,
   "id": "1a780ffa-a432-49ed-a7da-b3c9f94bc845",
   "metadata": {},
   "outputs": [],
   "source": [
    "phased_idx_bins = phasing_candidates.set_index(\n",
    "    ['bin1_unphased', 'bin2_unphased']\n",
    ").index"
   ]
  },
  {
   "cell_type": "code",
   "execution_count": 105,
   "id": "e51e0809-1b3f-4f6d-bc43-58e907dc6048",
   "metadata": {},
   "outputs": [],
   "source": [
    "phased_idx_bins_unique = phased_idx_bins.intersection(unique_idx_bins)"
   ]
  },
  {
   "cell_type": "code",
   "execution_count": 106,
   "id": "85bc09c8-9a4e-4a6b-a63e-46a4e55457a3",
   "metadata": {},
   "outputs": [],
   "source": [
    "phased_idx_unique = phasing_candidates.reset_index()\\\n",
    "    .set_index(['bin1_unphased', 'bin2_unphased'])\\\n",
    "    .loc[phased_idx_bins_unique, 'index']"
   ]
  },
  {
   "cell_type": "code",
   "execution_count": 107,
   "id": "e5889e81-9540-4c11-a5ba-baeefd97eee7",
   "metadata": {},
   "outputs": [
    {
     "data": {
      "text/plain": [
       "1775"
      ]
     },
     "execution_count": 107,
     "metadata": {},
     "output_type": "execute_result"
    }
   ],
   "source": [
    "len(phased_idx_unique)"
   ]
  },
  {
   "cell_type": "code",
   "execution_count": 108,
   "id": "8bf86b44-5d9d-4b10-9da4-84b667961099",
   "metadata": {},
   "outputs": [],
   "source": [
    "# Assign phases:\n",
    "\n",
    "df.loc[phased_idx_unique, 'phase0'] = \\\n",
    "    phasing_candidates.loc[phased_idx_unique, 'pseusophase0']\n",
    "df.loc[phased_idx_unique, 'phase1'] = \\\n",
    "    phasing_candidates.loc[phased_idx_unique, 'pseusophase1']\n",
    "\n",
    "df.loc[phased_idx_unique, 'chr1_phased'] = \\\n",
    "    phasing_candidates.loc[phased_idx_unique, 'chr1_phased']\n",
    "df.loc[phased_idx_unique, 'chr2_phased'] = \\\n",
    "    phasing_candidates.loc[phased_idx_unique, 'chr2_phased']\n",
    "\n",
    "df.loc[phased_idx_unique, col_mark] = f\"resolved-{iteration}\""
   ]
  },
  {
   "cell_type": "markdown",
   "id": "f7caa5bb-bf45-4414-997c-8f5afc9f1f1c",
   "metadata": {},
   "source": [
    "### Store new contacts"
   ]
  },
  {
   "cell_type": "code",
   "execution_count": 64,
   "id": "d2353017-6cbb-4905-9d13-564a66e4e413",
   "metadata": {},
   "outputs": [],
   "source": [
    "# df.loc[:, 'phase0'] = df.loc[:, 'phase0'].astype(str)\n",
    "# df.loc[:, 'phase1'] = df.loc[:, 'phase1'].astype(str)"
   ]
  },
  {
   "cell_type": "code",
   "execution_count": 127,
   "id": "d26d9d1e-4255-4808-8f23-396a0879fd74",
   "metadata": {},
   "outputs": [],
   "source": [
    "iteration = 3"
   ]
  },
  {
   "cell_type": "code",
   "execution_count": 128,
   "id": "4bbdc764-c798-47de-b6a3-f73dd94bc548",
   "metadata": {},
   "outputs": [],
   "source": [
    "resolution_prev = resolution\n",
    "resolution = 100_000 #500_000\n",
    "factor_conversion = resolution_prev/resolution"
   ]
  },
  {
   "cell_type": "code",
   "execution_count": 129,
   "id": "5f734978-cb51-47a6-9d1a-553b941339ce",
   "metadata": {},
   "outputs": [],
   "source": [
    "n_beads_prev = len(bin_table)\n",
    "chromsizes_diploid_res_prev = get_beads_per_chromosomes(chromsizes_diploid, resolution_prev)"
   ]
  },
  {
   "cell_type": "code",
   "execution_count": 130,
   "id": "c2581b92-9ae2-43fc-8db1-b58df42bcf6d",
   "metadata": {},
   "outputs": [],
   "source": [
    "chromsizes_diploid_res     = get_beads_per_chromosomes(chromsizes_diploid, resolution)\n",
    "chromsizes_res = get_beads_per_chromosomes(chromsizes, resolution)\n",
    "\n",
    "genome_viewframe_diploid = bioframe.make_viewframe(chromsizes_diploid['length'])\n",
    "\n",
    "bin_table = cooler.binnify(chromsizes_diploid['length'], resolution)\n",
    "bin_table.to_csv(f\"./bin_table_round{iteration}.csv\")\n",
    "\n",
    "chromsizes_diploid_res.to_csv(f\"./chrom-sizes_round{iteration}.csv\")"
   ]
  },
  {
   "cell_type": "code",
   "execution_count": 131,
   "id": "b24efdaa-42cb-46a1-ac47-5002cb5b1370",
   "metadata": {},
   "outputs": [],
   "source": [
    "chr_offsets = chromsizes_res.cumsum().shift(1).replace(np.nan, 0).astype(int)\n",
    "\n",
    "df.loc[:, 'bin1_unphased'] = df.loc[:, 'pos1']//resolution + df['chr1'].apply(lambda x: chr_offsets[x])\n",
    "df.loc[:, 'bin2_unphased'] = df.loc[:, 'pos2']//resolution + df['chr2'].apply(lambda x: chr_offsets[x])"
   ]
  },
  {
   "cell_type": "code",
   "execution_count": 132,
   "id": "2dd919a2-d21b-4509-a03a-5dac4665b626",
   "metadata": {},
   "outputs": [
    {
     "name": "stdout",
     "output_type": "stream",
     "text": [
      "Ambiguous vs resolved: 1823169 16069\n"
     ]
    }
   ],
   "source": [
    "# Split pairs into ambiguous vs not: \n",
    "df_accepted, df_ambiguous, df = split_pairs(df, mark=False)\n",
    "print('Ambiguous vs resolved:', len(df_ambiguous), len(df_accepted))"
   ]
  },
  {
   "cell_type": "code",
   "execution_count": 133,
   "id": "f34ecc54-c74e-4169-bd70-e2e84d0038e5",
   "metadata": {},
   "outputs": [
    {
     "name": "stderr",
     "output_type": "stream",
     "text": [
      "/tmp/ipykernel_2309672/2890387701.py:4: SettingWithCopyWarning: \n",
      "A value is trying to be set on a copy of a slice from a DataFrame.\n",
      "Try using .loc[row_indexer,col_indexer] = value instead\n",
      "\n",
      "See the caveats in the documentation: https://pandas.pydata.org/pandas-docs/stable/user_guide/indexing.html#returning-a-view-versus-a-copy\n",
      "  df_accepted.loc[:, 'bin1_phased'] = df_accepted.loc[:, 'pos1']//resolution + df_accepted['chr1_phased'].apply(lambda x: chr_offsets_diploid.loc[x, 'length'])\n",
      "/tmp/ipykernel_2309672/2890387701.py:5: SettingWithCopyWarning: \n",
      "A value is trying to be set on a copy of a slice from a DataFrame.\n",
      "Try using .loc[row_indexer,col_indexer] = value instead\n",
      "\n",
      "See the caveats in the documentation: https://pandas.pydata.org/pandas-docs/stable/user_guide/indexing.html#returning-a-view-versus-a-copy\n",
      "  df_accepted.loc[:, 'bin2_phased'] = df_accepted.loc[:, 'pos2']//resolution + df_accepted['chr2_phased'].apply(lambda x: chr_offsets_diploid.loc[x, 'length'])\n"
     ]
    }
   ],
   "source": [
    "# bin1_phased and bin2_phased are phased binned coordinates\n",
    "chr_offsets_diploid = chromsizes_diploid_res.cumsum().shift(1).replace(np.nan, 0).astype(int)\n",
    "\n",
    "df_accepted.loc[:, 'bin1_phased'] = df_accepted.loc[:, 'pos1']//resolution + df_accepted['chr1_phased'].apply(lambda x: chr_offsets_diploid.loc[x, 'length'])\n",
    "df_accepted.loc[:, 'bin2_phased'] = df_accepted.loc[:, 'pos2']//resolution + df_accepted['chr2_phased'].apply(lambda x: chr_offsets_diploid.loc[x, 'length'])\n",
    "\n",
    "# Get the edges: \n",
    "df_edges = get_edges(df_accepted)"
   ]
  },
  {
   "cell_type": "code",
   "execution_count": 134,
   "id": "281b85f1-ec73-49ba-9d54-359c0c5901b3",
   "metadata": {},
   "outputs": [],
   "source": [
    "df_edges.to_csv(f\"./edges_round{iteration}.csv\")"
   ]
  },
  {
   "cell_type": "markdown",
   "id": "56a902fa-4484-4f13-8e76-142f45c57d73",
   "metadata": {},
   "source": [
    "### Interpolate the model and increase resolution"
   ]
  },
  {
   "cell_type": "code",
   "execution_count": 118,
   "id": "18f29190-d05b-4deb-8664-0b5bbdeb9087",
   "metadata": {},
   "outputs": [],
   "source": [
    "def model_interpolate(points, n):\n",
    "    \"\"\"\n",
    "    Takes the numpy array of points and interpolates linearly into the n new points.\n",
    "    \"\"\"\n",
    "    n1 = len(points)\n",
    "    total_len = n1 - 1\n",
    "    points_new = [points[0]]\n",
    "    for i in range(1, n):\n",
    "        curr_len = total_len * i / (n - 1)\n",
    "        p1 = points[int(curr_len // 1)]\n",
    "        if curr_len // 1 == n1 - 1:\n",
    "            points_new.append(p1)\n",
    "        else:\n",
    "            p2 = points[int(curr_len // 1) + 1]\n",
    "            alpha = curr_len % 1\n",
    "            p = (p1[0] * (1 - alpha) + p2[0] * alpha, p1[1] * (1 - alpha) + p2[1] * alpha,\n",
    "                 p1[2] * (1 - alpha) + p2[2] * alpha)\n",
    "            points_new.append(p)\n",
    "    return np.array(points_new)"
   ]
  },
  {
   "cell_type": "code",
   "execution_count": 119,
   "id": "c0bf79ee-e1f1-426a-8e51-8d53ff4ad949",
   "metadata": {},
   "outputs": [],
   "source": [
    "bin_table = cooler.binnify(chromsizes_diploid['length'], resolution)\n",
    "n_beads = len(bin_table)"
   ]
  },
  {
   "cell_type": "code",
   "execution_count": 120,
   "id": "04ab2c28-9e07-4ac1-a483-87cb9764dbf5",
   "metadata": {},
   "outputs": [
    {
     "data": {
      "text/plain": [
       "(500000, 100000, 12412, 61940)"
      ]
     },
     "execution_count": 120,
     "metadata": {},
     "output_type": "execute_result"
    }
   ],
   "source": [
    "resolution_prev, resolution, n_beads_prev, n_beads"
   ]
  },
  {
   "cell_type": "code",
   "execution_count": 121,
   "id": "410300dc-b52d-42c7-a1f8-964fc7b87d9a",
   "metadata": {},
   "outputs": [],
   "source": [
    "pos_prev = pos"
   ]
  },
  {
   "cell_type": "code",
   "execution_count": 122,
   "id": "41c7c402-c3e2-4b08-b267-238a13f5fbc4",
   "metadata": {},
   "outputs": [],
   "source": [
    "# Interpolate within each chromosome individually:\n",
    "pos_new = []\n",
    "\n",
    "chr_pos_start = 0\n",
    "\n",
    "for ch in chromsizes_diploid_res.index.values:\n",
    "    \n",
    "    n_beads_chr_prev = chromsizes_diploid_res_prev.loc[ch, 'length']\n",
    "    n_beads_chr      = chromsizes_diploid_res.loc[ch, 'length']\n",
    "\n",
    "    # Define chromosome end:\n",
    "    chr_pos_end = chr_pos_start + n_beads_chr_prev\n",
    "    pos_chr = pos_prev[chr_pos_start:chr_pos_end, :]\n",
    "    pos_new.append( model_interpolate(pos_chr, n_beads_chr) )\n",
    "\n",
    "    # Set the pointer to the chromosome start to the end of the current one:\n",
    "    chr_pos_start = chr_pos_end"
   ]
  },
  {
   "cell_type": "code",
   "execution_count": 123,
   "id": "60633705-fffd-413d-8899-0498175ab55c",
   "metadata": {},
   "outputs": [],
   "source": [
    "pos_new = np.concatenate(pos_new)"
   ]
  },
  {
   "cell_type": "code",
   "execution_count": 124,
   "id": "df452d43-e1d5-4acc-911c-2038ad2526ce",
   "metadata": {},
   "outputs": [
    {
     "data": {
      "text/plain": [
       "((61940, 3), 61940)"
      ]
     },
     "execution_count": 124,
     "metadata": {},
     "output_type": "execute_result"
    }
   ],
   "source": [
    "pos_new.shape, n_beads"
   ]
  },
  {
   "cell_type": "code",
   "execution_count": 125,
   "id": "c33c3474-c502-470f-a16b-25b2b09607e4",
   "metadata": {},
   "outputs": [],
   "source": [
    "starting_pos = pos_new # (factor_conversion**(1/3.))*pos_new"
   ]
  },
  {
   "cell_type": "code",
   "execution_count": 126,
   "id": "c0452626-df0c-4204-97ed-7dfbd8ed2c69",
   "metadata": {},
   "outputs": [],
   "source": [
    "np.save( f\"starting_model_round{iteration}.npy\", starting_pos )"
   ]
  },
  {
   "cell_type": "code",
   "execution_count": 347,
   "id": "ca932133-2e49-48dd-b134-8ca90457e7bd",
   "metadata": {},
   "outputs": [],
   "source": [
    "# distances_backbone = get_distances_backbone(starting_pos, chromsizes_diploid_res)\n",
    "# pd.DataFrame( distances_backbone ).describe()"
   ]
  },
  {
   "cell_type": "code",
   "execution_count": null,
   "id": "be38c437-55ed-48dd-9927-38877ff1ce26",
   "metadata": {},
   "outputs": [],
   "source": []
  }
 ],
 "metadata": {
  "kernelspec": {
   "display_name": "polychrom-openmm",
   "language": "python",
   "name": "polychrom-openmm"
  },
  "language_info": {
   "codemirror_mode": {
    "name": "ipython",
    "version": 3
   },
   "file_extension": ".py",
   "mimetype": "text/x-python",
   "name": "python",
   "nbconvert_exporter": "python",
   "pygments_lexer": "ipython3",
   "version": "3.10.13"
  }
 },
 "nbformat": 4,
 "nbformat_minor": 5
}
